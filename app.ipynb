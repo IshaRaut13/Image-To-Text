{
 "cells": [
  {
   "cell_type": "code",
   "execution_count": 60,
   "metadata": {},
   "outputs": [],
   "source": [
    "import pandas as pd\n",
    "import numpy as np\n",
    "\n",
    "from glob import glob\n",
    "from tqdm.notebook import tqdm\n",
    "\n",
    "import matplotlib.pyplot as plt\n",
    "from PIL import Image\n",
    "\n",
    "plt.style.use('ggplot')"
   ]
  },
  {
   "cell_type": "markdown",
   "metadata": {},
   "source": [
    "using 3 different methods\n",
    "- EasyOCR method\n",
    "- TesseractOCR method\n",
    "- PaddleOCR method"
   ]
  },
  {
   "cell_type": "code",
   "execution_count": 49,
   "metadata": {},
   "outputs": [],
   "source": [
    "annot = pd.read_parquet('C:/Users/Admin/OneDrive/Desktop/ImageToText/dataset/annot.parquet')\n",
    "imgs = pd.read_parquet('C:/Users/Admin/OneDrive/Desktop/ImageToText/dataset/img.parquet')\n",
    "img_fns = glob('C:/Users/Admin/OneDrive/Desktop/ImageToText/dataset/train_val_images/train_images/*')"
   ]
  },
  {
   "cell_type": "code",
   "execution_count": null,
   "metadata": {},
   "outputs": [],
   "source": [
    "annot.head()"
   ]
  },
  {
   "cell_type": "code",
   "execution_count": null,
   "metadata": {},
   "outputs": [],
   "source": [
    "imgs.head()"
   ]
  },
  {
   "cell_type": "code",
   "execution_count": null,
   "metadata": {},
   "outputs": [],
   "source": [
    "#C:\\Users\\Admin\\OneDrive\\Desktop\\ImageToText\\dataset\\train_val_images\\train_images\\00a0db6495982c1d.jpg\n",
    "img_id = img_fns[0].split('\\\\')[-1].split('.')[0]\n",
    "\n",
    "fig, ax = plt.subplots(figsize=(10,10))\n",
    "ax.imshow(plt.imread(img_fns[0]))\n",
    "plt.show()"
   ]
  },
  {
   "cell_type": "code",
   "execution_count": null,
   "metadata": {},
   "outputs": [],
   "source": [
    "plt.imshow(plt.imread(img_fns[0]))"
   ]
  },
  {
   "cell_type": "code",
   "execution_count": null,
   "metadata": {},
   "outputs": [],
   "source": [
    "image_id = img_fns[0].split('\\\\')[-1].split('.')[0]\n",
    "print(annot.head())\n",
    "print(annot['image_id'].unique())  # Display unique values for comparison\n",
    "result = annot.query('image_id == @image_id')\n",
    "print(result)"
   ]
  },
  {
   "cell_type": "code",
   "execution_count": null,
   "metadata": {},
   "outputs": [],
   "source": [
    "fig, axs = plt.subplots(5, 5, figsize=(20,20))\n",
    "axs = axs.flatten()\n",
    "for i in range(25):\n",
    "    axs[i].imshow(plt.imread(img_fns[i]))\n",
    "    axs[i].axis('off')\n",
    "    image_id = img_fns[i].split('\\\\')[-1].rstrip('.jpg')\n",
    "    n_annot = len(annot.query('image_id == @image_id'))\n",
    "    axs[i].set_title(f'{image_id} - {n_annot}')\n",
    "plt.show()"
   ]
  },
  {
   "cell_type": "markdown",
   "metadata": {},
   "source": [
    "Method 1. pytesseract "
   ]
  },
  {
   "cell_type": "code",
   "execution_count": null,
   "metadata": {},
   "outputs": [],
   "source": [
    "!pip install tesseract-ocr\n",
    "!pip install pytesseract easyocr opencv-python -q\n",
    "!pip install paddleocr paddlepaddle-gpu -q"
   ]
  },
  {
   "cell_type": "code",
   "execution_count": null,
   "metadata": {},
   "outputs": [],
   "source": [
    "import pytesseract\n",
    "#pytesseract.pytesseract.tesseract_cmd = r'C:/Program Files/Tesseract-OCR/tesseract.exe'\n",
    "\n",
    "print(pytesseract.image_to_string(img_fns[6], lang='eng'))"
   ]
  },
  {
   "cell_type": "code",
   "execution_count": null,
   "metadata": {},
   "outputs": [],
   "source": [
    "fig, ax = plt.subplots(figsize=(10, 10))\n",
    "ax.imshow(plt.imread(img_fns[6]))\n",
    "ax.axis('off')\n",
    "plt.show()"
   ]
  },
  {
   "cell_type": "markdown",
   "metadata": {},
   "source": [
    "Method 2. easyocr"
   ]
  },
  {
   "cell_type": "code",
   "execution_count": null,
   "metadata": {},
   "outputs": [],
   "source": [
    "import easyocr\n",
    "reader = easyocr.Reader(['en'], gpu = True)"
   ]
  },
  {
   "cell_type": "code",
   "execution_count": 97,
   "metadata": {},
   "outputs": [],
   "source": [
    "results = reader.readtext(img_fns[6])"
   ]
  },
  {
   "cell_type": "code",
   "execution_count": null,
   "metadata": {},
   "outputs": [],
   "source": [
    "pd.DataFrame(results, columns=['bbox','text','conf'])"
   ]
  },
  {
   "cell_type": "markdown",
   "metadata": {},
   "source": [
    "Method 3. keras_ocr"
   ]
  },
  {
   "cell_type": "code",
   "execution_count": null,
   "metadata": {},
   "outputs": [],
   "source": [
    "pip install keras-ocr --upgrade"
   ]
  },
  {
   "cell_type": "code",
   "execution_count": 104,
   "metadata": {},
   "outputs": [],
   "source": [
    "!pip install tensorflow -q"
   ]
  },
  {
   "cell_type": "code",
   "execution_count": null,
   "metadata": {},
   "outputs": [],
   "source": [
    "import keras_ocr\n",
    "pipeline = keras_ocr.pipeline.Pipeline()"
   ]
  },
  {
   "cell_type": "code",
   "execution_count": null,
   "metadata": {},
   "outputs": [],
   "source": [
    "results = pipeline.recognize([img_fns[11]])\n",
    "pd.DataFrame(results[0], columns=['text', 'bbox'])"
   ]
  },
  {
   "cell_type": "code",
   "execution_count": null,
   "metadata": {},
   "outputs": [],
   "source": [
    "keras_ocr.tools.drawAnnotations(plt.imread(img_fns[11], results[0]))"
   ]
  },
  {
   "cell_type": "code",
   "execution_count": null,
   "metadata": {},
   "outputs": [],
   "source": [
    "# Easyocr\n",
    "reader = easyocr.Reader(['en'], gpu = False)\n",
    "\n",
    "dfs = []\n",
    "for img in tqdm(img_fns[:25]):\n",
    "    result = reader.readtext(img)\n",
    "    img_id = img.split('\\\\')[-1].split('.')[0]\n",
    "    img_df = pd.DataFrame(result, columns=['bbox', 'text', 'conf'])\n",
    "    img_df['img_id'] = img_id\n",
    "    dfs.append(img_df)\n",
    "easyocr_df = pd.concat(dfs)"
   ]
  },
  {
   "cell_type": "code",
   "execution_count": null,
   "metadata": {},
   "outputs": [],
   "source": [
    "%%time\n",
    "# keras_ocr\n",
    "pipeline = keras_ocr.pipeline.Pipeline()\n",
    "dfs = []\n",
    "for img in tqdm(img_fns[:25]):\n",
    "    results = pipeline.recognize([img])\n",
    "    result = results[0]\n",
    "    img_id = img.split('\\\\')[-1].split('.')[0]\n",
    "    img_df = pd.DataFrame(result, columns=['text', 'bbox'])\n",
    "    img_df['img_id'] = img_id\n",
    "    dfs.append(img_df)\n",
    "kesarocr_df = pd.concat(dfs)"
   ]
  },
  {
   "cell_type": "code",
   "execution_count": null,
   "metadata": {},
   "outputs": [],
   "source": [
    "def plot_compare(img_fn, easyocr_df, kerasocr_df):\n",
    "    img_id = img_fn.split('/')[-1].split('.')[0]\n",
    "    fig, axs = plt.subplots(1, 2, figsize=(15, 10))\n",
    "\n",
    "    easy_results = easyocr_df.query('img_id == @img_id')[['text','bbox']].values.tolist()\n",
    "    easy_results = [(x[0], np.array(x[1])) for x in easy_results]\n",
    "    keras_ocr.tools.drawAnnotations(plt.imread(img_fn), \n",
    "                                    easy_results, ax=axs[0])\n",
    "    axs[0].set_title('easyocr results', fontsize=24)\n",
    "\n",
    "    keras_results = kerasocr_df.query('img_id == @img_id')[['text','bbox']].values.tolist()\n",
    "    keras_results = [(x[0], np.array(x[1])) for x in keras_results]\n",
    "    keras_ocr.tools.drawAnnotations(plt.imread(img_fn), \n",
    "                                    keras_results, ax=axs[1])\n",
    "    axs[1].set_title('keras_ocr results', fontsize=24)\n",
    "    plt.show()"
   ]
  },
  {
   "cell_type": "code",
   "execution_count": null,
   "metadata": {},
   "outputs": [],
   "source": [
    "# Loop over results\n",
    "for img_fn in img_fns[:25]:\n",
    "    plot_compare(img_fn, easyocr_df, kerasocr_df)"
   ]
  },
  {
   "cell_type": "code",
   "execution_count": null,
   "metadata": {},
   "outputs": [],
   "source": [
    "keras_ocr.tools.drawAnnotations(plt.imread(img_fns[11], results[0], ax=ax))"
   ]
  }
 ],
 "metadata": {
  "kernelspec": {
   "display_name": "base",
   "language": "python",
   "name": "python3"
  },
  "language_info": {
   "codemirror_mode": {
    "name": "ipython",
    "version": 3
   },
   "file_extension": ".py",
   "mimetype": "text/x-python",
   "name": "python",
   "nbconvert_exporter": "python",
   "pygments_lexer": "ipython3",
   "version": "3.12.7"
  }
 },
 "nbformat": 4,
 "nbformat_minor": 2
}
